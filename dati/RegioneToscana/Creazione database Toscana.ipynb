{
 "cells": [
  {
   "cell_type": "code",
   "execution_count": 2,
   "metadata": {
    "collapsed": true
   },
   "outputs": [],
   "source": [
    "import urllib\n",
    "import os\n",
    "import pandas as pd"
   ]
  },
  {
   "cell_type": "code",
   "execution_count": 4,
   "metadata": {
    "collapsed": true
   },
   "outputs": [],
   "source": [
    "province = [\"http://www.arpat.toscana.it/temi-ambientali/amianto/mappatura/edifici/arezzo.pdf\",\n",
    "\"http://www.arpat.toscana.it/temi-ambientali/amianto/mappatura/edifici/firenze.pdf\",\n",
    "\"http://www.arpat.toscana.it/temi-ambientali/amianto/mappatura/edifici/grosseto.pdf\",\n",
    "\"http://www.arpat.toscana.it/temi-ambientali/amianto/mappatura/edifici/livorno.pdf\",\n",
    "\"http://www.arpat.toscana.it/temi-ambientali/amianto/mappatura/edifici/lucca.pdf\",\n",
    "\"http://www.arpat.toscana.it/temi-ambientali/amianto/mappatura/edifici/massa.pdf\",\n",
    "\"http://www.arpat.toscana.it/temi-ambientali/amianto/mappatura/edifici/pisa.pdf\",\n",
    "\"http://www.arpat.toscana.it/temi-ambientali/amianto/mappatura/edifici/pistoia.pdf\",\n",
    "\"http://www.arpat.toscana.it/temi-ambientali/amianto/mappatura/edifici/prato.pdf\",\n",
    "\"http://www.arpat.toscana.it/temi-ambientali/amianto/mappatura/edifici/siena.pdf\"]"
   ]
  },
  {
   "cell_type": "code",
   "execution_count": 12,
   "metadata": {
    "collapsed": false
   },
   "outputs": [],
   "source": [
    "def scarica_pdf(link):\n",
    "    urllib.urlretrieve(link, os.path.join(os.getcwd(), \"PDF\", os.path.basename(link)))\n",
    "    "
   ]
  },
  {
   "cell_type": "code",
   "execution_count": 13,
   "metadata": {
    "collapsed": false
   },
   "outputs": [],
   "source": [
    "for provincia in province:\n",
    "    scarica_pdf(provincia)"
   ]
  },
  {
   "cell_type": "markdown",
   "metadata": {},
   "source": [
    "<h2> proviamo a effettuare la trasformazione del pdf in txt attraverso PDFminer </h2>"
   ]
  },
  {
   "cell_type": "code",
   "execution_count": 5,
   "metadata": {
    "collapsed": true
   },
   "outputs": [],
   "source": [
    "from cStringIO import StringIO\n",
    "from pdfminer.pdfinterp import PDFResourceManager, PDFPageInterpreter\n",
    "from pdfminer.converter import TextConverter\n",
    "from pdfminer.layout import LAParams\n",
    "from pdfminer.pdfpage import PDFPage\n",
    "\n",
    "def convert(fname, pages=None):\n",
    "    if not pages:\n",
    "        pagenums = set()\n",
    "    else:\n",
    "        pagenums = set(pages)\n",
    "\n",
    "    output = StringIO()\n",
    "    manager = PDFResourceManager()\n",
    "    converter = TextConverter(manager, output, laparams=LAParams())\n",
    "    interpreter = PDFPageInterpreter(manager, converter)\n",
    "\n",
    "    infile = file(fname, 'rb')\n",
    "    for page in PDFPage.get_pages(infile, pagenums):\n",
    "        interpreter.process_page(page)\n",
    "    infile.close()\n",
    "    converter.close()\n",
    "    text = output.getvalue()\n",
    "    output.close\n",
    "    return text "
   ]
  },
  {
   "cell_type": "code",
   "execution_count": 70,
   "metadata": {
    "collapsed": false
   },
   "outputs": [],
   "source": [
    "#convert(os.path.basename(province[0])).split(\"\\n\\n\")"
   ]
  },
  {
   "cell_type": "markdown",
   "metadata": {},
   "source": [
    "<h2> esito negativo, utilizziamo TABULA </h2>"
   ]
  },
  {
   "cell_type": "code",
   "execution_count": 71,
   "metadata": {
    "collapsed": false
   },
   "outputs": [],
   "source": [
    "#os.listdir(os.getcwd())"
   ]
  },
  {
   "cell_type": "markdown",
   "metadata": {},
   "source": [
    "<h2> aggreghiamo i dati estratti con tabula </h2>"
   ]
  },
  {
   "cell_type": "code",
   "execution_count": 13,
   "metadata": {
    "collapsed": false
   },
   "outputs": [],
   "source": [
    "toscana = pd.DataFrame(columns = [u'provincia', u'comune', u'Ragione sociale', u'indirizzo', u'civico', u'destinazione', u'sup_coperta'])"
   ]
  },
  {
   "cell_type": "code",
   "execution_count": 14,
   "metadata": {
    "collapsed": false
   },
   "outputs": [],
   "source": [
    "for item in ['tabula-arezzo.csv',\n",
    " 'tabula-firenze.csv',\n",
    " 'tabula-grosseto.csv',\n",
    " 'tabula-livorno.csv',\n",
    " 'tabula-lucca.csv',\n",
    " 'tabula-massa.csv',\n",
    " 'tabula-pisa.csv',\n",
    " 'tabula-pistoia.csv',\n",
    " 'tabula-prato.csv',\n",
    " 'tabula-siena.csv']:\n",
    "    url = os.path.join(os.getcwd(), \"Tabula\", item)\n",
    "    toscana = pd.concat([toscana, pd.read_csv(url, encoding='utf-8', sep=\",\")])"
   ]
  },
  {
   "cell_type": "markdown",
   "metadata": {},
   "source": [
    "<h2> rimuoviamo le intestazioni di colonna in eccesso </h2>"
   ]
  },
  {
   "cell_type": "code",
   "execution_count": 15,
   "metadata": {
    "collapsed": true
   },
   "outputs": [],
   "source": [
    "toscana = toscana[toscana[\"provincia\"] != \"provincia\"]"
   ]
  },
  {
   "cell_type": "code",
   "execution_count": 16,
   "metadata": {
    "collapsed": true
   },
   "outputs": [],
   "source": [
    "#si risolve una stranezza unicode di importazione tabula\n",
    "for columns in range(0,toscana.shape[1]):\n",
    "    for rows in range(0,toscana.shape[0]):\n",
    "        try: \n",
    "            unicode(toscana.iloc[rows, columns])\n",
    "        except:\n",
    "            for caracter in toscana.iloc[rows, columns]:\n",
    "                try:\n",
    "                    unicode(caracter)\n",
    "                except:\n",
    "                    toscana.iloc[rows, columns] = toscana.iloc[rows, columns].replace(caracter, \"X\")"
   ]
  },
  {
   "cell_type": "markdown",
   "metadata": {},
   "source": [
    "<h2> rimuoviamo le interruzioni di linea all'interno delle celle create da Tabula </h2>"
   ]
  },
  {
   "cell_type": "code",
   "execution_count": 17,
   "metadata": {
    "collapsed": true
   },
   "outputs": [],
   "source": [
    "def replace(x):\n",
    "    if type(x) == str or type(x) == unicode:\n",
    "        x = x.replace('\\r', '')\n",
    "    else:\n",
    "        x = x[0].replace('\\r', '')\n",
    "    return x\n",
    "    \n",
    "toscana[\"indirizzo\"] = toscana[\"indirizzo\"].map(lambda x: x.replace('\"', ''))\n",
    "toscana[\"indirizzo\"] = toscana[\"indirizzo\"].map(lambda x: replace(x))\n",
    "\n",
    "toscana[\"Ragione sociale\"] = toscana[\"Ragione sociale\"].map(lambda x: x.replace('\"', ''))\n",
    "toscana[\"Ragione sociale\"] = toscana[\"Ragione sociale\"].map(lambda x: replace(x))\n"
   ]
  },
  {
   "cell_type": "code",
   "execution_count": null,
   "metadata": {
    "collapsed": true
   },
   "outputs": [],
   "source": []
  },
  {
   "cell_type": "code",
   "execution_count": null,
   "metadata": {
    "collapsed": false
   },
   "outputs": [],
   "source": []
  },
  {
   "cell_type": "markdown",
   "metadata": {
    "collapsed": false
   },
   "source": [
    "<h2> prima prova di geolocalizzazione </h2>"
   ]
  },
  {
   "cell_type": "code",
   "execution_count": 18,
   "metadata": {
    "collapsed": true
   },
   "outputs": [],
   "source": [
    "import geopy"
   ]
  },
  {
   "cell_type": "code",
   "execution_count": 19,
   "metadata": {
    "collapsed": false
   },
   "outputs": [
    {
     "name": "stdout",
     "output_type": "stream",
     "text": [
      "42/23, Via di Novoli, Careggi, Firenze, FI, TOS, 50127, Italia\n"
     ]
    }
   ],
   "source": [
    "from geopy.geocoders import Nominatim\n",
    "geolocator =  Nominatim()\n",
    "location = geolocator.geocode(\"Firenze Via di Novoli 23\")\n",
    "print(location.address)"
   ]
  },
  {
   "cell_type": "code",
   "execution_count": 20,
   "metadata": {
    "collapsed": false
   },
   "outputs": [
    {
     "data": {
      "text/plain": [
       "(43.793649, 11.2202068)"
      ]
     },
     "execution_count": 20,
     "metadata": {},
     "output_type": "execute_result"
    }
   ],
   "source": [
    "location.latitude, location.longitude"
   ]
  },
  {
   "cell_type": "code",
   "execution_count": 30,
   "metadata": {
    "collapsed": true
   },
   "outputs": [],
   "source": [
    "def coordinate(via):\n",
    "    try:\n",
    "        geolocator = Nominatim()\n",
    "        location = geolocator.geocode(via, addressdetails=True)\n",
    "        print location.address\n",
    "        return location.latitude, location.longitude\n",
    "    except:\n",
    "        pass\n",
    "    "
   ]
  },
  {
   "cell_type": "code",
   "execution_count": 37,
   "metadata": {
    "collapsed": false
   },
   "outputs": [
    {
     "name": "stdout",
     "output_type": "stream",
     "text": [
      "Piazza Resistenza, Bibbiena, Case Fraternità, Bibbiena, AR, TOS, Italia\n",
      "(43.6933234, 11.8188218)\n"
     ]
    }
   ],
   "source": [
    "print coordinate(\"PIAZZA RESISTENZA BIBBIENA\")"
   ]
  },
  {
   "cell_type": "code",
   "execution_count": 23,
   "metadata": {
    "collapsed": false
   },
   "outputs": [],
   "source": [
    "toscana[\"geo\"] = toscana[\"indirizzo\"] + \" , \" + toscana[\"comune\"] +  \" , \" + \"Italia\""
   ]
  },
  {
   "cell_type": "code",
   "execution_count": 24,
   "metadata": {
    "collapsed": false
   },
   "outputs": [
    {
     "data": {
      "text/plain": [
       "0                         DEL PANTANO , AREZZO , Italia\n",
       "1                       VIA CHIASSAIA , AREZZO , Italia\n",
       "2              PIAZZA POGGIO DEL SOLE , AREZZO , Italia\n",
       "3                          VIA ROMANA , AREZZO , Italia\n",
       "4                          PATRIGNONE , AREZZO , Italia\n",
       "5                   PIAZZA DEL POPOLO , AREZZO , Italia\n",
       "6                         P.TA FAENZI , AREZZO , Italia\n",
       "7                 PIAZZA GUALCHIERE , BIBBIENA , Italia\n",
       "8                 PIAZZA RESISTENZA , BIBBIENA , Italia\n",
       "9          SS.71 LOCALITA' PIANACCI , BIBBIENA , Italia\n",
       "10                     VIA XXV APRILE , BUCINE , Italia\n",
       "11              VIA DANTE ALIGHIERI , CAPOLONA , Italia\n",
       "12              VIA FIRENZE , CASTEL FOCOGNANO , Italia\n",
       "13         PONTE DEL RIO , CASTEL SAN NICCOLO' , Italia\n",
       "14         PONTE DEL RIO , CASTEL SAN NICCOLO' , Italia\n",
       "15         VIA ARETINA , CASTELFRANCO DI SOPRA , Italia\n",
       "16          VIALE EUROPA , CASTIGLION FIBOCCHI , Italia\n",
       "17            MANCIANO , CASTIGLION FIORENTINO , Italia\n",
       "18                 EUROPA , CHIUSI DELLA VERNA , Italia\n",
       "19    LOC. CORSALONE STRADA REGIONALE 71 , CHIUSI DE...\n",
       "20    COMUNALE DI VEZZANO , CHIUSI DELLA VERNA , Italia\n",
       "21    VIA DEL SEMBOLINO , CIVITELLA IN VAL DI CHIANA...\n",
       "22               VIA FOSSE ARDEATINE , CORTONA , Italia\n",
       "23                        S. EUSEBIO , CORTONA , Italia\n",
       "24                  via valdascione , LATERINA , Italia\n",
       "26               VIA GRUISSAN , LORO CIUFFENNA , Italia\n",
       "27                      VIA SENESE , LUCIGNANO , Italia\n",
       "28                VIA SANTE TANI , MONTEVARCHI , Italia\n",
       "29                   VIA VENEZIA , MONTEVARCHI , Italia\n",
       "30                    G. MARCONI , MONTEVARCHI , Italia\n",
       "                            ...                        \n",
       "11               VIA FERRUCCI , CAMPI BISENZIO , Italia\n",
       "12       VIA DELLE GINESTRE , CAPRAIA E LIMITE , Italia\n",
       "13         VIA D. ALIGHIERI , CAPRAIA E LIMITE , Italia\n",
       "14           LOC. GRANAIOLO , CASTELFIORENTINO , Italia\n",
       "15     VIALE F.D. ROOSEVELT , CASTELFIORENTINO , Italia\n",
       "16             LOC. RIMORTI , CASTELFIORENTINO , Italia\n",
       "17              via Niccoli , CASTELFIORENTINO , Italia\n",
       "18              DEL PANTANO , CASTELFIORENTINO , Italia\n",
       "19        S.P. 4 VOLTERRANA , CASTELFIORENTINO , Italia\n",
       "20          VIA NICCOLI  granaiolo , GRANAIOLO , Italia\n",
       "21                    GAVONCHI , CERRETO GUIDI , Italia\n",
       "22                VIA DEL LUPO , CERRETO GUIDI , Italia\n",
       "23                         VIA LAMA , CERTALDO , Italia\n",
       "24                           SS.429 , CERTALDO , Italia\n",
       "25                         2 GIUGNO , CERTALDO , Italia\n",
       "26                     DEL TORRIONE , CERTALDO , Italia\n",
       "27                      DON MINZONI , CERTALDO , Italia\n",
       "28                         canonica , CERTALDO , Italia\n",
       "29                   via Don Sturzo , CERTALDO , Italia\n",
       "30                            Piano , CERTALDO , Italia\n",
       "31                       MONTEBELLO , CERTALDO , Italia\n",
       "32                         CANONICA , CERTALDO , Italia\n",
       "33                      DON MINZONI , CERTALDO , Italia\n",
       "34                      DON MINZONI , CERTALDO , Italia\n",
       "35                      DON MINZONI , CERTALDO , Italia\n",
       "36                         2 GIUGNO , CERTALDO , Italia\n",
       "37                            tripoli , EMPOLI , Italia\n",
       "38                        VIA TRIPOLI , EMPOLI , Italia\n",
       "39                        MOLIN NUOVO , EMPOLI , Italia\n",
       "40                       VIA PALARINI , EMPOLI , Italia\n",
       "Name: geo, dtype: object"
      ]
     },
     "execution_count": 24,
     "metadata": {},
     "output_type": "execute_result"
    }
   ],
   "source": [
    "toscana[\"geo\"][0:100]#.map(lambda x: coordinate(x))"
   ]
  },
  {
   "cell_type": "code",
   "execution_count": 46,
   "metadata": {
    "collapsed": false
   },
   "outputs": [],
   "source": [
    "toscana[\"coordinate\"] = toscana[\"geo\"].map(lambda x: coordinate(x))"
   ]
  },
  {
   "cell_type": "code",
   "execution_count": 65,
   "metadata": {
    "collapsed": false
   },
   "outputs": [],
   "source": [
    "def estrai_lat_long(x, posizione):\n",
    "    try:\n",
    "        return x[posizione]\n",
    "    except:\n",
    "        pass\n",
    "\n",
    "\n",
    "toscana[\"latitudine\"] = toscana[\"coordinate\"].map(lambda x: estrai_lat_long(x,0))"
   ]
  },
  {
   "cell_type": "code",
   "execution_count": 66,
   "metadata": {
    "collapsed": true
   },
   "outputs": [],
   "source": [
    "toscana[\"longitudine\"] = toscana[\"coordinate\"].map(lambda x: estrai_lat_long(x,1))"
   ]
  },
  {
   "cell_type": "code",
   "execution_count": 74,
   "metadata": {
    "collapsed": false
   },
   "outputs": [],
   "source": [
    "toscana.to_excel(\"toscana.xlsx\")"
   ]
  },
  {
   "cell_type": "code",
   "execution_count": 69,
   "metadata": {
    "collapsed": false
   },
   "outputs": [],
   "source": [
    "toscana.to_csv(\"toscana.csv\", encoding = \"utf-8\")"
   ]
  },
  {
   "cell_type": "code",
   "execution_count": 5,
   "metadata": {
    "collapsed": false
   },
   "outputs": [],
   "source": [
    "toscana = pd.read_excel(\"toscana.xlsx\")"
   ]
  },
  {
   "cell_type": "code",
   "execution_count": null,
   "metadata": {
    "collapsed": false
   },
   "outputs": [],
   "source": []
  },
  {
   "cell_type": "code",
   "execution_count": 8,
   "metadata": {
    "collapsed": false
   },
   "outputs": [],
   "source": [
    "os.chdir(\"..\")\n",
    "os.chdir(\"..\")\n",
    "\n",
    "data_folder = os.path.join(os.getcwd(), \"dati\", \"MinAmbiente\", \"PNA_W\")\n",
    "data_folder_arpat = os.path.join(os.getcwd(), \"dati\", \"RegioneToscana\")"
   ]
  },
  {
   "cell_type": "code",
   "execution_count": 9,
   "metadata": {
    "collapsed": false
   },
   "outputs": [],
   "source": [
    "dati_PNA_W = pd.read_csv(os.path.join(data_folder, 'Toscana_2013.csv'), sep = \";\")\n",
    "dati_Arpat =  pd.read_csv(os.path.join(data_folder_arpat,  \"toscana.csv\"), sep=\",\")"
   ]
  },
  {
   "cell_type": "code",
   "execution_count": null,
   "metadata": {
    "collapsed": true
   },
   "outputs": [],
   "source": []
  },
  {
   "cell_type": "code",
   "execution_count": 23,
   "metadata": {
    "collapsed": false
   },
   "outputs": [],
   "source": [
    "confronto = pd.concat([dati_Arpat[\"provincia\"].value_counts(), dati_PNA_W[\"Provincia\"].value_counts()], axis = 1)"
   ]
  },
  {
   "cell_type": "code",
   "execution_count": 25,
   "metadata": {
    "collapsed": false
   },
   "outputs": [],
   "source": [
    "confronto.columns = [\"ARPAT\", \"MINISTERO\"]"
   ]
  },
  {
   "cell_type": "markdown",
   "metadata": {},
   "source": [
    "<h2> Se i dati del ministero sono completi ed aggiornati al 2013 e quelli della Toscana sono completi ed aggiornati al 2007 possiamo sapere quanti interventi di bonifica sono stati effettuati per provincia</h2>"
   ]
  },
  {
   "cell_type": "code",
   "execution_count": 27,
   "metadata": {
    "collapsed": false
   },
   "outputs": [],
   "source": [
    "confronto[\"differenza\"] = confronto[\"ARPAT\"] - confronto[\"MINISTERO\"]"
   ]
  },
  {
   "cell_type": "code",
   "execution_count": 37,
   "metadata": {
    "collapsed": true
   },
   "outputs": [],
   "source": [
    "confronto[\"var\"] = confronto[\"MINISTERO\"] / confronto[\"ARPAT\"] * 100 - 100"
   ]
  },
  {
   "cell_type": "code",
   "execution_count": 38,
   "metadata": {
    "collapsed": false
   },
   "outputs": [
    {
     "data": {
      "text/html": [
       "<div>\n",
       "<table border=\"1\" class=\"dataframe\">\n",
       "  <thead>\n",
       "    <tr style=\"text-align: right;\">\n",
       "      <th></th>\n",
       "      <th>ARPAT</th>\n",
       "      <th>MINISTERO</th>\n",
       "      <th>differenza</th>\n",
       "      <th>var</th>\n",
       "    </tr>\n",
       "  </thead>\n",
       "  <tbody>\n",
       "    <tr>\n",
       "      <th>FI</th>\n",
       "      <td>378</td>\n",
       "      <td>342</td>\n",
       "      <td>36</td>\n",
       "      <td>-9.523810</td>\n",
       "    </tr>\n",
       "    <tr>\n",
       "      <th>PI</th>\n",
       "      <td>171</td>\n",
       "      <td>149</td>\n",
       "      <td>22</td>\n",
       "      <td>-12.865497</td>\n",
       "    </tr>\n",
       "    <tr>\n",
       "      <th>GR</th>\n",
       "      <td>111</td>\n",
       "      <td>110</td>\n",
       "      <td>1</td>\n",
       "      <td>-0.900901</td>\n",
       "    </tr>\n",
       "    <tr>\n",
       "      <th>LI</th>\n",
       "      <td>104</td>\n",
       "      <td>98</td>\n",
       "      <td>6</td>\n",
       "      <td>-5.769231</td>\n",
       "    </tr>\n",
       "    <tr>\n",
       "      <th>LU</th>\n",
       "      <td>103</td>\n",
       "      <td>96</td>\n",
       "      <td>7</td>\n",
       "      <td>-6.796117</td>\n",
       "    </tr>\n",
       "    <tr>\n",
       "      <th>SI</th>\n",
       "      <td>80</td>\n",
       "      <td>74</td>\n",
       "      <td>6</td>\n",
       "      <td>-7.500000</td>\n",
       "    </tr>\n",
       "    <tr>\n",
       "      <th>MS</th>\n",
       "      <td>69</td>\n",
       "      <td>68</td>\n",
       "      <td>1</td>\n",
       "      <td>-1.449275</td>\n",
       "    </tr>\n",
       "    <tr>\n",
       "      <th>AR</th>\n",
       "      <td>59</td>\n",
       "      <td>59</td>\n",
       "      <td>0</td>\n",
       "      <td>0.000000</td>\n",
       "    </tr>\n",
       "    <tr>\n",
       "      <th>PT</th>\n",
       "      <td>52</td>\n",
       "      <td>47</td>\n",
       "      <td>5</td>\n",
       "      <td>-9.615385</td>\n",
       "    </tr>\n",
       "    <tr>\n",
       "      <th>PO</th>\n",
       "      <td>18</td>\n",
       "      <td>18</td>\n",
       "      <td>0</td>\n",
       "      <td>0.000000</td>\n",
       "    </tr>\n",
       "  </tbody>\n",
       "</table>\n",
       "</div>"
      ],
      "text/plain": [
       "    ARPAT  MINISTERO  differenza        var\n",
       "FI    378        342          36  -9.523810\n",
       "PI    171        149          22 -12.865497\n",
       "GR    111        110           1  -0.900901\n",
       "LI    104         98           6  -5.769231\n",
       "LU    103         96           7  -6.796117\n",
       "SI     80         74           6  -7.500000\n",
       "MS     69         68           1  -1.449275\n",
       "AR     59         59           0   0.000000\n",
       "PT     52         47           5  -9.615385\n",
       "PO     18         18           0   0.000000"
      ]
     },
     "execution_count": 38,
     "metadata": {},
     "output_type": "execute_result"
    }
   ],
   "source": [
    "confronto"
   ]
  },
  {
   "cell_type": "code",
   "execution_count": null,
   "metadata": {
    "collapsed": true
   },
   "outputs": [],
   "source": []
  }
 ],
 "metadata": {
  "kernelspec": {
   "display_name": "Python 2",
   "language": "python",
   "name": "python2"
  },
  "language_info": {
   "codemirror_mode": {
    "name": "ipython",
    "version": 2
   },
   "file_extension": ".py",
   "mimetype": "text/x-python",
   "name": "python",
   "nbconvert_exporter": "python",
   "pygments_lexer": "ipython2",
   "version": "2.7.11"
  }
 },
 "nbformat": 4,
 "nbformat_minor": 0
}
